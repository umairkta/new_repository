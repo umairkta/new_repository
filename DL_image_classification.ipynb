{
  "nbformat": 4,
  "nbformat_minor": 0,
  "metadata": {
    "colab": {
      "provenance": [],
      "gpuType": "T4",
      "mount_file_id": "1CPGzzxEkc9qNArnow999x3cbH_7qXX8T",
      "authorship_tag": "ABX9TyOQjbGdIF44GfjkVUI6CFM2",
      "include_colab_link": true
    },
    "kernelspec": {
      "name": "python3",
      "display_name": "Python 3"
    },
    "language_info": {
      "name": "python"
    },
    "accelerator": "GPU"
  },
  "cells": [
    {
      "cell_type": "markdown",
      "metadata": {
        "id": "view-in-github",
        "colab_type": "text"
      },
      "source": [
        "<a href=\"https://colab.research.google.com/github/umairkta/new_repository/blob/master/DL_image_classification.ipynb\" target=\"_parent\"><img src=\"https://colab.research.google.com/assets/colab-badge.svg\" alt=\"Open In Colab\"/></a>"
      ]
    },
    {
      "cell_type": "code",
      "execution_count": 1,
      "metadata": {
        "id": "FWkvmGHyAuKZ"
      },
      "outputs": [],
      "source": [
        "import os\n",
        "from skimage.io import imread\n",
        "from skimage.transform import resize\n",
        "from keras.layers import Dense,Conv2D,MaxPool2D"
      ]
    },
    {
      "cell_type": "code",
      "source": [
        "train_path='/content/drive/MyDrive/Brain_Tumor/Training'\n",
        "categories=['glioma','meningioma','notumor','pituitary']\n",
        "x_train=[]\n",
        "y_train=[]\n",
        "for category in categories:\n",
        "  fold_path=os.path.join(train_path,category)\n",
        "  #print(fold_path)\n",
        "  images=os.listdir(fold_path)\n",
        "  #print(images)\n",
        "  for img in images:\n",
        "    img_path=os.path.join(fold_path,img)\n",
        "    img_array=imread(img_path)\n",
        "    img=resize(img_array,(150,150,1))\n",
        "    x_train.append(img)\n",
        "    y_train.append(categories.index(category))\n",
        "  print('Loaded category',category)"
      ],
      "metadata": {
        "colab": {
          "base_uri": "https://localhost:8080/"
        },
        "id": "Uhqb1lfUBSNY",
        "outputId": "56582180-44f1-45a9-b494-8dd6b2e1875a"
      },
      "execution_count": null,
      "outputs": [
        {
          "output_type": "stream",
          "name": "stdout",
          "text": [
            "Loaded category glioma\n"
          ]
        }
      ]
    },
    {
      "cell_type": "code",
      "source": [
        "test_path='/content/drive/MyDrive/Brain_Tumor/Testing'\n",
        "categories1=['glioma','meningioma','notumor','pituitary']\n",
        "x_test=[]\n",
        "y_test=[]\n",
        "for category in categories:\n",
        "  fold_path=os.path.join(test_path,category)\n",
        "  images=os.listdir(fold_path)\n",
        "  for img in images:\n",
        "    img_path=os.path.join(fold_path,img)\n",
        "    img_array=imread(img_path)\n",
        "    img=resize(img_array,(150,150,1))\n",
        "    x_test.append(img)\n",
        "    y_test.append(categories.index(category))\n",
        "  print('loaded categories',category)"
      ],
      "metadata": {
        "id": "UW-XYpI7Nrr5"
      },
      "execution_count": null,
      "outputs": []
    },
    {
      "cell_type": "code",
      "source": [
        "import numpy as np\n",
        "x_train=np.array(x_train)\n",
        "x_test=np.array(x_test)\n",
        "y_train=np.array(y_train)\n",
        "y_test=np.array(y_test)"
      ],
      "metadata": {
        "id": "84o-j_PTREhp"
      },
      "execution_count": null,
      "outputs": []
    },
    {
      "cell_type": "code",
      "source": [
        "x_train.shape,y_train.shape"
      ],
      "metadata": {
        "id": "QTbkDMuDSIKZ"
      },
      "execution_count": null,
      "outputs": []
    },
    {
      "cell_type": "code",
      "source": [
        "x_test.shape,y_test.shape"
      ],
      "metadata": {
        "id": "LuKNKD81SQJS"
      },
      "execution_count": null,
      "outputs": []
    },
    {
      "cell_type": "code",
      "source": [
        "# import random\n",
        "# random.seed(1)"
      ],
      "metadata": {
        "id": "mQ1qGRoRV4X2"
      },
      "execution_count": null,
      "outputs": []
    },
    {
      "cell_type": "code",
      "source": [],
      "metadata": {
        "id": "vkeIrl96mdze"
      },
      "execution_count": null,
      "outputs": []
    },
    {
      "cell_type": "code",
      "source": [
        "from keras.layers import Flatten"
      ],
      "metadata": {
        "id": "WmunmngSYxjr"
      },
      "execution_count": null,
      "outputs": []
    },
    {
      "cell_type": "markdown",
      "source": [],
      "metadata": {
        "id": "fVsYPj25avM2"
      }
    },
    {
      "cell_type": "code",
      "source": [
        "from keras.models import Sequential\n",
        "model=Sequential()\n",
        "model.add(Conv2D(32,(3,3),activation='relu'))\n",
        "model.add(MaxPool2D(2,2))\n",
        "model.add(Flatten())\n",
        "model.add(Dense(100,activation='relu'))\n",
        "model.add(Dense(4,activation='softmax'))"
      ],
      "metadata": {
        "id": "Eq7Oli7VTsDs"
      },
      "execution_count": null,
      "outputs": []
    },
    {
      "cell_type": "code",
      "source": [
        "model.compile(optimizer='adam',loss='sparse_categorical_crossentropy',metrics=['accuracy'])"
      ],
      "metadata": {
        "id": "8QDLIBMNZXUA"
      },
      "execution_count": null,
      "outputs": []
    },
    {
      "cell_type": "code",
      "source": [
        "model.fit(x_train,y_train,epochs=10,batch_size=10)"
      ],
      "metadata": {
        "id": "op5q6xdZZ36h"
      },
      "execution_count": null,
      "outputs": []
    },
    {
      "cell_type": "code",
      "source": [
        "model.evaluate(x_test,y_test)"
      ],
      "metadata": {
        "id": "ElrAn4ttZ51L"
      },
      "execution_count": null,
      "outputs": []
    },
    {
      "cell_type": "code",
      "source": [
        "new_img=imread('/content/drive/MyDrive/Brain_Tumor/Testing/notumor/Te-noTr_0000.jpg')\n",
        "new_img"
      ],
      "metadata": {
        "id": "dpxVmm6Vbb_e"
      },
      "execution_count": null,
      "outputs": []
    },
    {
      "cell_type": "code",
      "source": [
        "resized_img=resize(new_img,(150,150,1))\n",
        "resized_img.shape"
      ],
      "metadata": {
        "id": "eQweW8vFcjQ1"
      },
      "execution_count": null,
      "outputs": []
    },
    {
      "cell_type": "code",
      "source": [
        "img=resized_img.reshape(1,150,150,1)\n",
        "img.shape"
      ],
      "metadata": {
        "id": "vPRYkYNLdPKM"
      },
      "execution_count": null,
      "outputs": []
    },
    {
      "cell_type": "code",
      "source": [
        "pred=model.predict(img)\n",
        "pred"
      ],
      "metadata": {
        "id": "zSSpd_8UdgcE"
      },
      "execution_count": null,
      "outputs": []
    },
    {
      "cell_type": "code",
      "source": [
        "ind=pred.argmax()\n",
        "ind"
      ],
      "metadata": {
        "id": "Akh7fV8bep8k"
      },
      "execution_count": null,
      "outputs": []
    },
    {
      "cell_type": "code",
      "source": [
        "categories[ind]"
      ],
      "metadata": {
        "id": "RbZkFgMneuWl"
      },
      "execution_count": null,
      "outputs": []
    },
    {
      "cell_type": "markdown",
      "source": [
        "we can do it like the above or like below in a function"
      ],
      "metadata": {
        "id": "7ZpxFLuyf4bu"
      }
    },
    {
      "cell_type": "code",
      "source": [
        "def predict_new(img,model):\n",
        "  img_resized=resize(img,(150,150,1))\n",
        "  img_reshaped=img_resized.reshape(1,150,150,1)\n",
        "  pred=model.predict(img_reshaped)\n",
        "  ind=pred.argmax()\n",
        "  categories=['glioma','meningioma','notumor','pituitary']\n",
        "  print(categories[ind])"
      ],
      "metadata": {
        "id": "J2msbENDezYm"
      },
      "execution_count": null,
      "outputs": []
    },
    {
      "cell_type": "code",
      "source": [
        "imgpath=input('Enter the image path')\n",
        "img=imread(imgpath)\n",
        "predict_new(img,model)"
      ],
      "metadata": {
        "id": "ofFMWzGIflf9"
      },
      "execution_count": null,
      "outputs": []
    }
  ]
}